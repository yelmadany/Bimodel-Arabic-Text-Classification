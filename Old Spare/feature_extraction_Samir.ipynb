{
 "cells": [
  {
   "cell_type": "code",
   "execution_count": null,
   "metadata": {},
   "outputs": [],
   "source": [
    "import os\n",
    "import csv\n",
    "\n",
    "import cv2\n",
    "import numpy as np\n",
    "import matplotlib.pyplot as plt\n",
    "from scipy.signal import find_peaks"
   ]
  },
  {
   "cell_type": "code",
   "execution_count": null,
   "metadata": {},
   "outputs": [],
   "source": [
    "def pen_pressure(image):\n",
    "    # Flatten the 2D image array to a 1D array\n",
    "    flattened_image = image.flatten()\n",
    "\n",
    "    # Calculate mean and standard deviation of pixel intensities\n",
    "    mean_intensity = np.mean(flattened_image)\n",
    "    std_dev_intensity = np.std(flattened_image)\n",
    "\n",
    "    return mean_intensity, std_dev_intensity\n",
    "\n",
    "def horizontal_projection_profile(image):\n",
    "    # Apply a binary threshold\n",
    "    _, binary_img = cv2.threshold(image, 127, 255, cv2.THRESH_BINARY_INV)\n",
    "\n",
    "    # Dilate the image to emphasize text lines\n",
    "    kernel = np.ones((5,5), np.uint8)\n",
    "    dilated_img = cv2.dilate(binary_img, kernel, iterations=1)\n",
    "    #plt.imshow(dilated_img, cmap='gray')\n",
    "\n",
    "    # Compute the horizontal projection by summing along the columns\n",
    "    projection = np.sum(dilated_img, axis=1)\n",
    "\n",
    "    # # For visualization\n",
    "    # plt.plot(projection)\n",
    "    # plt.title(\"Horizontal Projection Profile\")\n",
    "    # plt.xlabel(\"Row Number\")\n",
    "    # plt.ylabel(\"Sum of Pixel Values\")\n",
    "    # plt.show()\n",
    "\n",
    "    return projection\n",
    "\n",
    "def writing_irregularity(image):\n",
    "    prominence_threshold=24000\n",
    "    projection_profile = horizontal_projection_profile(image)\n",
    "    peaks, properties = find_peaks(projection_profile, prominence=prominence_threshold)\n",
    "    print(f\"Calculating irregularity using {len(peaks)} peaks found in horizontal projection profile.\")\n",
    "    irregularity = np.mean(calculate_valley_sum(projection_profile, peaks))\n",
    "    return irregularity\n",
    "\n",
    "def calculate_valley_sum(projection_profile, peaks):\n",
    "    valley_sums = []\n",
    "    for i in range(len(peaks) - 1):\n",
    "        start_index = peaks[i]\n",
    "        end_index = peaks[i + 1]\n",
    "        valley_width = (end_index - start_index) // 2\n",
    "        \n",
    "        valley_start = start_index + valley_width\n",
    "        valley_end = end_index - valley_width\n",
    "        \n",
    "        valley_sum = np.sum(projection_profile[valley_start:valley_end])\n",
    "        valley_sums.append(valley_sum)\n",
    "        \n",
    "    return valley_sums"
   ]
  },
  {
   "cell_type": "code",
   "execution_count": null,
   "metadata": {},
   "outputs": [],
   "source": [
    "with open('data.csv', mode='w', newline='') as file:\n",
    "    writer = csv.writer(file)\n",
    "    writer.writerow(['File', 'Mean of Pen Pressure', 'Standard Deviation of Pen Pressure', 'Writing Irregularity'])\n",
    "    for i, filename in enumerate(os.listdir('./images')):\n",
    "        print(f\"({i}) Processing {filename}\")\n",
    "        image = cv2.imread('./images/'+filename, cv2.IMREAD_GRAYSCALE)\n",
    "        pressure = pen_pressure(image)\n",
    "        irregularity = writing_irregularity(image)\n",
    "        #writer.writerow([filename, pressure[0], pressure[1], irregularity])\n",
    "        print(irregularity)"
   ]
  }
 ],
 "metadata": {
  "kernelspec": {
   "display_name": ".venv",
   "language": "python",
   "name": "python3"
  },
  "language_info": {
   "codemirror_mode": {
    "name": "ipython",
    "version": 3
   },
   "file_extension": ".py",
   "mimetype": "text/x-python",
   "name": "python",
   "nbconvert_exporter": "python",
   "pygments_lexer": "ipython3",
   "version": "3.11.4"
  }
 },
 "nbformat": 4,
 "nbformat_minor": 2
}
