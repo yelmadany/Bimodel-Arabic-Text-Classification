{
 "cells": [
  {
   "cell_type": "markdown",
   "metadata": {},
   "source": [
    "<h1>Libraries</h1>\n"
   ]
  },
  {
   "cell_type": "code",
   "execution_count": 146,
   "metadata": {},
   "outputs": [],
   "source": [
    "import numpy as np\n",
    "import pandas as pd\n",
    "import matplotlib.pyplot as plt\n",
    "import seaborn as sns\n",
    "import os\n",
    "from sklearn.preprocessing import StandardScaler\n",
    "from sklearn.compose import ColumnTransformer\n",
    "from sklearn.decomposition import PCA\n",
    "from sklearn.tree import DecisionTreeClassifier\n",
    "from sklearn.model_selection import RepeatedStratifiedKFold\n",
    "from sklearn.metrics import accuracy_score, f1_score, classification_report, confusion_matrix\n",
    "from sklearn.model_selection import train_test_split\n",
    "from sklearn.neighbors import KNeighborsClassifier\n",
    "from sklearn.naive_bayes import GaussianNB\n",
    "from sklearn.svm import LinearSVC\n",
    "from sklearn.svm import SVC\n",
    "from xgboost import XGBClassifier\n"
   ]
  },
  {
   "cell_type": "markdown",
   "metadata": {},
   "source": [
    "<h1>Processing<h1>"
   ]
  },
  {
   "cell_type": "code",
   "execution_count": 147,
   "metadata": {},
   "outputs": [],
   "source": [
    "# Random Seed at file level\n",
    "random_seed = 40\n",
    "np.random.seed(random_seed)"
   ]
  },
  {
   "cell_type": "code",
   "execution_count": 148,
   "metadata": {},
   "outputs": [],
   "source": [
    "#data set loading\n",
    "df = pd.read_csv('dlfeatures.csv')"
   ]
  },
  {
   "cell_type": "code",
   "execution_count": 149,
   "metadata": {},
   "outputs": [],
   "source": [
    "df = df.fillna(0)\n"
   ]
  },
  {
   "cell_type": "code",
   "execution_count": 150,
   "metadata": {},
   "outputs": [
    {
     "data": {
      "text/html": [
       "<div>\n",
       "<style scoped>\n",
       "    .dataframe tbody tr th:only-of-type {\n",
       "        vertical-align: middle;\n",
       "    }\n",
       "\n",
       "    .dataframe tbody tr th {\n",
       "        vertical-align: top;\n",
       "    }\n",
       "\n",
       "    .dataframe thead th {\n",
       "        text-align: right;\n",
       "    }\n",
       "</style>\n",
       "<table border=\"1\" class=\"dataframe\">\n",
       "  <thead>\n",
       "    <tr style=\"text-align: right;\">\n",
       "      <th></th>\n",
       "      <th>filename</th>\n",
       "      <th>gender</th>\n",
       "      <th>feature_1</th>\n",
       "      <th>feature_2</th>\n",
       "      <th>feature_3</th>\n",
       "      <th>feature_4</th>\n",
       "      <th>feature_5</th>\n",
       "      <th>feature_6</th>\n",
       "      <th>feature_7</th>\n",
       "      <th>feature_8</th>\n",
       "      <th>...</th>\n",
       "      <th>feature_191</th>\n",
       "      <th>feature_192</th>\n",
       "      <th>feature_193</th>\n",
       "      <th>feature_194</th>\n",
       "      <th>feature_195</th>\n",
       "      <th>feature_196</th>\n",
       "      <th>feature_197</th>\n",
       "      <th>feature_198</th>\n",
       "      <th>feature_199</th>\n",
       "      <th>feature_200</th>\n",
       "    </tr>\n",
       "  </thead>\n",
       "  <tbody>\n",
       "    <tr>\n",
       "      <th>0</th>\n",
       "      <td>AHTD3A0001_Para1.tif</td>\n",
       "      <td>1</td>\n",
       "      <td>0.196775</td>\n",
       "      <td>0.214341</td>\n",
       "      <td>0.323202</td>\n",
       "      <td>0.082428</td>\n",
       "      <td>0.083402</td>\n",
       "      <td>0.132520</td>\n",
       "      <td>0.075448</td>\n",
       "      <td>0.129393</td>\n",
       "      <td>...</td>\n",
       "      <td>0.334277</td>\n",
       "      <td>0.457827</td>\n",
       "      <td>0.167589</td>\n",
       "      <td>0.223514</td>\n",
       "      <td>0.296704</td>\n",
       "      <td>0.196817</td>\n",
       "      <td>0.225407</td>\n",
       "      <td>0.302030</td>\n",
       "      <td>0.148853</td>\n",
       "      <td>0.303619</td>\n",
       "    </tr>\n",
       "    <tr>\n",
       "      <th>1</th>\n",
       "      <td>AHTD3A0001_Para2.tif</td>\n",
       "      <td>1</td>\n",
       "      <td>-0.074925</td>\n",
       "      <td>0.072095</td>\n",
       "      <td>-0.142784</td>\n",
       "      <td>0.387837</td>\n",
       "      <td>0.940568</td>\n",
       "      <td>0.675403</td>\n",
       "      <td>0.245071</td>\n",
       "      <td>0.310153</td>\n",
       "      <td>...</td>\n",
       "      <td>-0.161006</td>\n",
       "      <td>-0.210443</td>\n",
       "      <td>-0.056967</td>\n",
       "      <td>-0.127965</td>\n",
       "      <td>-0.124341</td>\n",
       "      <td>-0.131250</td>\n",
       "      <td>0.107954</td>\n",
       "      <td>-0.155798</td>\n",
       "      <td>-0.079725</td>\n",
       "      <td>-0.149979</td>\n",
       "    </tr>\n",
       "    <tr>\n",
       "      <th>2</th>\n",
       "      <td>AHTD3A0001_Para3.tif</td>\n",
       "      <td>1</td>\n",
       "      <td>-0.127438</td>\n",
       "      <td>-0.022435</td>\n",
       "      <td>-0.214518</td>\n",
       "      <td>0.325588</td>\n",
       "      <td>0.871138</td>\n",
       "      <td>0.571669</td>\n",
       "      <td>0.184256</td>\n",
       "      <td>0.244962</td>\n",
       "      <td>...</td>\n",
       "      <td>-0.228725</td>\n",
       "      <td>-0.282050</td>\n",
       "      <td>-0.113828</td>\n",
       "      <td>-0.183149</td>\n",
       "      <td>-0.188106</td>\n",
       "      <td>-0.176147</td>\n",
       "      <td>0.011555</td>\n",
       "      <td>-0.216879</td>\n",
       "      <td>-0.112909</td>\n",
       "      <td>-0.216707</td>\n",
       "    </tr>\n",
       "    <tr>\n",
       "      <th>3</th>\n",
       "      <td>AHTD3A0001_Para4.tif</td>\n",
       "      <td>1</td>\n",
       "      <td>0.004752</td>\n",
       "      <td>0.160099</td>\n",
       "      <td>-0.017497</td>\n",
       "      <td>0.369546</td>\n",
       "      <td>0.818300</td>\n",
       "      <td>0.628261</td>\n",
       "      <td>0.255088</td>\n",
       "      <td>0.321703</td>\n",
       "      <td>...</td>\n",
       "      <td>-0.038916</td>\n",
       "      <td>-0.063268</td>\n",
       "      <td>0.016430</td>\n",
       "      <td>-0.036736</td>\n",
       "      <td>-0.014370</td>\n",
       "      <td>-0.048121</td>\n",
       "      <td>0.193967</td>\n",
       "      <td>-0.040983</td>\n",
       "      <td>-0.019456</td>\n",
       "      <td>-0.034036</td>\n",
       "    </tr>\n",
       "    <tr>\n",
       "      <th>4</th>\n",
       "      <td>AHTD3A0002_Para1.tif</td>\n",
       "      <td>1</td>\n",
       "      <td>0.242343</td>\n",
       "      <td>0.244694</td>\n",
       "      <td>0.406833</td>\n",
       "      <td>0.063161</td>\n",
       "      <td>0.035113</td>\n",
       "      <td>0.103282</td>\n",
       "      <td>0.068132</td>\n",
       "      <td>0.123782</td>\n",
       "      <td>...</td>\n",
       "      <td>0.417967</td>\n",
       "      <td>0.585452</td>\n",
       "      <td>0.202166</td>\n",
       "      <td>0.278775</td>\n",
       "      <td>0.365556</td>\n",
       "      <td>0.247351</td>\n",
       "      <td>0.254033</td>\n",
       "      <td>0.385729</td>\n",
       "      <td>0.181767</td>\n",
       "      <td>0.379763</td>\n",
       "    </tr>\n",
       "    <tr>\n",
       "      <th>...</th>\n",
       "      <td>...</td>\n",
       "      <td>...</td>\n",
       "      <td>...</td>\n",
       "      <td>...</td>\n",
       "      <td>...</td>\n",
       "      <td>...</td>\n",
       "      <td>...</td>\n",
       "      <td>...</td>\n",
       "      <td>...</td>\n",
       "      <td>...</td>\n",
       "      <td>...</td>\n",
       "      <td>...</td>\n",
       "      <td>...</td>\n",
       "      <td>...</td>\n",
       "      <td>...</td>\n",
       "      <td>...</td>\n",
       "      <td>...</td>\n",
       "      <td>...</td>\n",
       "      <td>...</td>\n",
       "      <td>...</td>\n",
       "      <td>...</td>\n",
       "    </tr>\n",
       "    <tr>\n",
       "      <th>3835</th>\n",
       "      <td>AHTD3A1173_Para4.tif</td>\n",
       "      <td>0</td>\n",
       "      <td>0.564839</td>\n",
       "      <td>0.581437</td>\n",
       "      <td>1.035407</td>\n",
       "      <td>0.056000</td>\n",
       "      <td>-0.107874</td>\n",
       "      <td>0.053679</td>\n",
       "      <td>0.121130</td>\n",
       "      <td>0.168222</td>\n",
       "      <td>...</td>\n",
       "      <td>1.074432</td>\n",
       "      <td>1.528023</td>\n",
       "      <td>0.499816</td>\n",
       "      <td>0.693952</td>\n",
       "      <td>0.896678</td>\n",
       "      <td>0.611772</td>\n",
       "      <td>0.566755</td>\n",
       "      <td>0.955964</td>\n",
       "      <td>0.404949</td>\n",
       "      <td>0.970752</td>\n",
       "    </tr>\n",
       "    <tr>\n",
       "      <th>3836</th>\n",
       "      <td>AHTD3A1181_Para1.tif</td>\n",
       "      <td>0</td>\n",
       "      <td>0.275606</td>\n",
       "      <td>0.435281</td>\n",
       "      <td>0.453585</td>\n",
       "      <td>0.288349</td>\n",
       "      <td>0.428870</td>\n",
       "      <td>0.454094</td>\n",
       "      <td>0.257358</td>\n",
       "      <td>0.320381</td>\n",
       "      <td>...</td>\n",
       "      <td>0.442120</td>\n",
       "      <td>0.589091</td>\n",
       "      <td>0.263165</td>\n",
       "      <td>0.289764</td>\n",
       "      <td>0.394234</td>\n",
       "      <td>0.243781</td>\n",
       "      <td>0.449924</td>\n",
       "      <td>0.393059</td>\n",
       "      <td>0.173653</td>\n",
       "      <td>0.408844</td>\n",
       "    </tr>\n",
       "    <tr>\n",
       "      <th>3837</th>\n",
       "      <td>AHTD3A1181_Para2.tif</td>\n",
       "      <td>0</td>\n",
       "      <td>0.223929</td>\n",
       "      <td>0.401891</td>\n",
       "      <td>0.367410</td>\n",
       "      <td>0.336408</td>\n",
       "      <td>0.551474</td>\n",
       "      <td>0.528757</td>\n",
       "      <td>0.284158</td>\n",
       "      <td>0.346854</td>\n",
       "      <td>...</td>\n",
       "      <td>0.353179</td>\n",
       "      <td>0.449986</td>\n",
       "      <td>0.221836</td>\n",
       "      <td>0.231047</td>\n",
       "      <td>0.317860</td>\n",
       "      <td>0.189720</td>\n",
       "      <td>0.424034</td>\n",
       "      <td>0.306379</td>\n",
       "      <td>0.141364</td>\n",
       "      <td>0.327371</td>\n",
       "    </tr>\n",
       "    <tr>\n",
       "      <th>3838</th>\n",
       "      <td>AHTD3A1181_Para3.tif</td>\n",
       "      <td>0</td>\n",
       "      <td>0.100292</td>\n",
       "      <td>0.238530</td>\n",
       "      <td>0.141866</td>\n",
       "      <td>0.295357</td>\n",
       "      <td>0.565209</td>\n",
       "      <td>0.490637</td>\n",
       "      <td>0.222756</td>\n",
       "      <td>0.285882</td>\n",
       "      <td>...</td>\n",
       "      <td>0.129835</td>\n",
       "      <td>0.156302</td>\n",
       "      <td>0.104067</td>\n",
       "      <td>0.081995</td>\n",
       "      <td>0.132203</td>\n",
       "      <td>0.060833</td>\n",
       "      <td>0.262659</td>\n",
       "      <td>0.109846</td>\n",
       "      <td>0.056046</td>\n",
       "      <td>0.120523</td>\n",
       "    </tr>\n",
       "    <tr>\n",
       "      <th>3839</th>\n",
       "      <td>AHTD3A1181_Para4.tif</td>\n",
       "      <td>0</td>\n",
       "      <td>0.195978</td>\n",
       "      <td>0.189704</td>\n",
       "      <td>0.335225</td>\n",
       "      <td>0.055931</td>\n",
       "      <td>0.035703</td>\n",
       "      <td>0.094860</td>\n",
       "      <td>0.052460</td>\n",
       "      <td>0.107548</td>\n",
       "      <td>...</td>\n",
       "      <td>0.352635</td>\n",
       "      <td>0.479798</td>\n",
       "      <td>0.165406</td>\n",
       "      <td>0.237774</td>\n",
       "      <td>0.308080</td>\n",
       "      <td>0.209469</td>\n",
       "      <td>0.204852</td>\n",
       "      <td>0.316292</td>\n",
       "      <td>0.163128</td>\n",
       "      <td>0.317498</td>\n",
       "    </tr>\n",
       "  </tbody>\n",
       "</table>\n",
       "<p>3840 rows × 202 columns</p>\n",
       "</div>"
      ],
      "text/plain": [
       "                  filename  gender  feature_1  feature_2  feature_3  \\\n",
       "0     AHTD3A0001_Para1.tif       1   0.196775   0.214341   0.323202   \n",
       "1     AHTD3A0001_Para2.tif       1  -0.074925   0.072095  -0.142784   \n",
       "2     AHTD3A0001_Para3.tif       1  -0.127438  -0.022435  -0.214518   \n",
       "3     AHTD3A0001_Para4.tif       1   0.004752   0.160099  -0.017497   \n",
       "4     AHTD3A0002_Para1.tif       1   0.242343   0.244694   0.406833   \n",
       "...                    ...     ...        ...        ...        ...   \n",
       "3835  AHTD3A1173_Para4.tif       0   0.564839   0.581437   1.035407   \n",
       "3836  AHTD3A1181_Para1.tif       0   0.275606   0.435281   0.453585   \n",
       "3837  AHTD3A1181_Para2.tif       0   0.223929   0.401891   0.367410   \n",
       "3838  AHTD3A1181_Para3.tif       0   0.100292   0.238530   0.141866   \n",
       "3839  AHTD3A1181_Para4.tif       0   0.195978   0.189704   0.335225   \n",
       "\n",
       "      feature_4  feature_5  feature_6  feature_7  feature_8  ...  feature_191  \\\n",
       "0      0.082428   0.083402   0.132520   0.075448   0.129393  ...     0.334277   \n",
       "1      0.387837   0.940568   0.675403   0.245071   0.310153  ...    -0.161006   \n",
       "2      0.325588   0.871138   0.571669   0.184256   0.244962  ...    -0.228725   \n",
       "3      0.369546   0.818300   0.628261   0.255088   0.321703  ...    -0.038916   \n",
       "4      0.063161   0.035113   0.103282   0.068132   0.123782  ...     0.417967   \n",
       "...         ...        ...        ...        ...        ...  ...          ...   \n",
       "3835   0.056000  -0.107874   0.053679   0.121130   0.168222  ...     1.074432   \n",
       "3836   0.288349   0.428870   0.454094   0.257358   0.320381  ...     0.442120   \n",
       "3837   0.336408   0.551474   0.528757   0.284158   0.346854  ...     0.353179   \n",
       "3838   0.295357   0.565209   0.490637   0.222756   0.285882  ...     0.129835   \n",
       "3839   0.055931   0.035703   0.094860   0.052460   0.107548  ...     0.352635   \n",
       "\n",
       "      feature_192  feature_193  feature_194  feature_195  feature_196  \\\n",
       "0        0.457827     0.167589     0.223514     0.296704     0.196817   \n",
       "1       -0.210443    -0.056967    -0.127965    -0.124341    -0.131250   \n",
       "2       -0.282050    -0.113828    -0.183149    -0.188106    -0.176147   \n",
       "3       -0.063268     0.016430    -0.036736    -0.014370    -0.048121   \n",
       "4        0.585452     0.202166     0.278775     0.365556     0.247351   \n",
       "...           ...          ...          ...          ...          ...   \n",
       "3835     1.528023     0.499816     0.693952     0.896678     0.611772   \n",
       "3836     0.589091     0.263165     0.289764     0.394234     0.243781   \n",
       "3837     0.449986     0.221836     0.231047     0.317860     0.189720   \n",
       "3838     0.156302     0.104067     0.081995     0.132203     0.060833   \n",
       "3839     0.479798     0.165406     0.237774     0.308080     0.209469   \n",
       "\n",
       "      feature_197  feature_198  feature_199  feature_200  \n",
       "0        0.225407     0.302030     0.148853     0.303619  \n",
       "1        0.107954    -0.155798    -0.079725    -0.149979  \n",
       "2        0.011555    -0.216879    -0.112909    -0.216707  \n",
       "3        0.193967    -0.040983    -0.019456    -0.034036  \n",
       "4        0.254033     0.385729     0.181767     0.379763  \n",
       "...           ...          ...          ...          ...  \n",
       "3835     0.566755     0.955964     0.404949     0.970752  \n",
       "3836     0.449924     0.393059     0.173653     0.408844  \n",
       "3837     0.424034     0.306379     0.141364     0.327371  \n",
       "3838     0.262659     0.109846     0.056046     0.120523  \n",
       "3839     0.204852     0.316292     0.163128     0.317498  \n",
       "\n",
       "[3840 rows x 202 columns]"
      ]
     },
     "execution_count": 150,
     "metadata": {},
     "output_type": "execute_result"
    }
   ],
   "source": [
    "df"
   ]
  },
  {
   "cell_type": "code",
   "execution_count": 151,
   "metadata": {},
   "outputs": [],
   "source": [
    "df = df.drop(columns=['filename'])\n",
    "\n",
    "# Separate features and target label\n",
    "features = df.drop('gender', axis=1)\n",
    "target = df['gender']"
   ]
  },
  {
   "cell_type": "code",
   "execution_count": 152,
   "metadata": {},
   "outputs": [],
   "source": [
    "\"\"\"\n",
    "#Sampling\n",
    "\n",
    "#---------------------------Undersampling----------------------------------------\n",
    "\n",
    "df_majority = df[df.Class_Label == 1]  # Assuming 1 represents females\n",
    "df_minority = df[df.Class_Label == 0]  # Assuming 0 represents males\n",
    "\n",
    "# Downsample the majority class then combine\n",
    "df_majority_downsampled = df_majority.sample(n = len(df_minority), random_state = random_seed)  # Ensure reproducibility with a random state\n",
    "df_under_balanced = pd.concat([df_majority_downsampled, df_minority])\n",
    "df_under_balanced = df_under_balanced.sample(frac=1, random_state=40).reset_index(drop=True) # Shuffle the dataset to prevent any order bias\n",
    "\n",
    "#----------------------------------------------------------------------------------\n",
    "\n",
    "\"\"\"\n",
    "\n",
    "from imblearn.over_sampling import SMOTE\n",
    "\n",
    "#Preprocessing: Standardization\n",
    "standard_scaler = StandardScaler() \n",
    "X = standard_scaler.fit_transform(features) \n",
    "\n",
    "# Sample data loading and preparation\n",
    "# X, y would be your dataset's features and labels respectively\n",
    "\n",
    "# Splitting the data into training and testing sets\n",
    "X_train, X_test, y_train, y_test = train_test_split(X, target, test_size=0.2, random_state=40)\n",
    "\n",
    "# Create an instance of SMOTE\n",
    "smote = SMOTE(random_state=random_seed)\n",
    "\n",
    "# Resample the training data\n",
    "X_train_resampled, y_train_resampled = smote.fit_resample(X_train, y_train)\n"
   ]
  },
  {
   "cell_type": "code",
   "execution_count": 153,
   "metadata": {},
   "outputs": [
    {
     "data": {
      "text/plain": [
       "array([[ 0.13133258, -0.48421169,  0.03869175, ...,  0.0863179 ,\n",
       "        -1.58991784,  0.07598363],\n",
       "       [-0.07406488, -0.28642143, -0.2753966 , ..., -0.22826614,\n",
       "         0.02313689, -0.268075  ],\n",
       "       [ 0.13133258, -0.48421169,  0.03869175, ...,  0.0863179 ,\n",
       "         0.33506957,  0.07598363],\n",
       "       ...,\n",
       "       [ 0.49804194,  0.34890837,  0.39544864, ...,  0.37958055,\n",
       "         0.64794964,  0.38839862],\n",
       "       [ 2.09447932,  0.92000733,  2.40642643, ...,  2.43888736,\n",
       "         2.23207117,  2.41336975],\n",
       "       [-0.21159841, -0.05311234, -0.3919635 , ..., -0.39343511,\n",
       "        -0.10045179, -0.38819937]])"
      ]
     },
     "execution_count": 153,
     "metadata": {},
     "output_type": "execute_result"
    }
   ],
   "source": [
    "X_train_resampled"
   ]
  },
  {
   "cell_type": "markdown",
   "metadata": {},
   "source": [
    "<h1>Split<h1>"
   ]
  },
  {
   "cell_type": "code",
   "execution_count": 154,
   "metadata": {},
   "outputs": [],
   "source": [
    "#Divide dataset into training and testing\n",
    "X_train, X_test, y_train, y_test = train_test_split(X,target, test_size=0.2)"
   ]
  },
  {
   "cell_type": "markdown",
   "metadata": {},
   "source": [
    "<h1>Feature Selection/Dimensionality Reduction<h1>"
   ]
  },
  {
   "cell_type": "code",
   "execution_count": 155,
   "metadata": {},
   "outputs": [],
   "source": [
    "# Applying PCA\n",
    "#pca = PCA(n_components=3, random_state=random_seed)\n",
    "#X_train_pca = pca.fit_transform(X_train)\n",
    "#X_test_pca = pca.transform(X_test)"
   ]
  },
  {
   "cell_type": "code",
   "execution_count": null,
   "metadata": {},
   "outputs": [],
   "source": [
    "\n"
   ]
  },
  {
   "cell_type": "code",
   "execution_count": 156,
   "metadata": {},
   "outputs": [],
   "source": [
    "#X_train_pca"
   ]
  },
  {
   "cell_type": "code",
   "execution_count": 157,
   "metadata": {},
   "outputs": [
    {
     "data": {
      "text/plain": [
       "array([[ 0.13133258, -0.48421169,  0.03869175, ...,  0.0863179 ,\n",
       "        -1.58991784,  0.07598363],\n",
       "       [-0.07406488, -0.28642143, -0.2753966 , ..., -0.22826614,\n",
       "         0.02313689, -0.268075  ],\n",
       "       [ 0.13133258, -0.48421169,  0.03869175, ...,  0.0863179 ,\n",
       "         0.33506957,  0.07598363],\n",
       "       ...,\n",
       "       [-0.20264256,  0.64849671, -0.39701094, ..., -0.47414521,\n",
       "        -0.18164376, -0.40663308],\n",
       "       [-1.17114918, -0.91652154, -1.08345779, ..., -1.05264749,\n",
       "        -1.08496188, -1.06322321],\n",
       "       [-0.15333031,  0.13662779, -0.33189797, ..., -0.35293794,\n",
       "        -0.05867934, -0.33734509]])"
      ]
     },
     "execution_count": 157,
     "metadata": {},
     "output_type": "execute_result"
    }
   ],
   "source": [
    "X_train"
   ]
  },
  {
   "cell_type": "markdown",
   "metadata": {},
   "source": [
    "<h1>Decision Trees<h1>"
   ]
  },
  {
   "cell_type": "code",
   "execution_count": 158,
   "metadata": {},
   "outputs": [],
   "source": [
    "# Create directories for saving results\n",
    "os.makedirs(\"./results\", exist_ok=True)"
   ]
  },
  {
   "cell_type": "code",
   "execution_count": 167,
   "metadata": {},
   "outputs": [
    {
     "name": "stdout",
     "output_type": "stream",
     "text": [
      "Accuracy: 0.6783854166666666\n",
      "F1 Score: 0.6806669041717437\n",
      "              precision    recall  f1-score   support\n",
      "\n",
      "           0       0.53      0.56      0.55       263\n",
      "           1       0.76      0.74      0.75       505\n",
      "\n",
      "    accuracy                           0.68       768\n",
      "   macro avg       0.65      0.65      0.65       768\n",
      "weighted avg       0.68      0.68      0.68       768\n",
      "\n",
      "Classification report saved to results\\classification_report.csv\n"
     ]
    },
    {
     "data": {
      "image/png": "[encoded data removed]",
      "text/plain": [
       "<Figure size 1000x800 with 2 Axes>"
      ]
     },
     "metadata": {},
     "output_type": "display_data"
    }
   ],
   "source": [
    "clf = DecisionTreeClassifier(max_depth = 30, random_state = random_seed) \n",
    "clf.fit(X_train_resampled,y_train_resampled)\n",
    "y_pred = clf.predict(X_test)\n",
    "\n",
    "\n",
    "# Calculate the scores\n",
    "accuracy = accuracy_score(y_test, y_pred)\n",
    "f1 = f1_score(y_test, y_pred, average='weighted')\n",
    "print(\"Accuracy:\", accuracy)\n",
    "print(\"F1 Score:\", f1)\n",
    "print(classification_report(y_test, y_pred))\n",
    "\n",
    "# Save the classification report\n",
    "report = classification_report(y_test, y_pred, output_dict=True)\n",
    "report_df = pd.DataFrame(report).transpose()\n",
    "\n",
    "classification_report_save_path = os.path.join('results', 'classification_report.csv')\n",
    "report_df.to_csv(classification_report_save_path, index=True)\n",
    "print(f\"Classification report saved to {classification_report_save_path}\")\n",
    "\n",
    "# Plot and save the confusion matrix\n",
    "cm = confusion_matrix(y_test, y_pred)\n",
    "plt.figure(figsize=(10, 8))\n",
    "sns.heatmap(cm, annot=True, fmt=\"d\", cmap=\"Blues\")\n",
    "plt.xlabel('Predicted')\n",
    "plt.ylabel('Actual')\n",
    "plt.title('Confusion Matrix - Decision Trees')\n",
    "plt.tight_layout()\n",
    "plt.savefig(f'results/confusion_matrix.png')\n",
    "plt.show()\n",
    "\n"
   ]
  },
  {
   "cell_type": "code",
   "execution_count": 160,
   "metadata": {},
   "outputs": [
    {
     "data": {
      "text/plain": [
       "'from sklearn import tree\\n\\ntree.plot_tree(clf)\\n'"
      ]
     },
     "execution_count": 160,
     "metadata": {},
     "output_type": "execute_result"
    }
   ],
   "source": [
    "\"\"\"from sklearn import tree\n",
    "\n",
    "tree.plot_tree(clf)\n",
    "\"\"\""
   ]
  },
  {
   "cell_type": "markdown",
   "metadata": {},
   "source": [
    "<h1>Naive Bayes<h1>"
   ]
  },
  {
   "cell_type": "code",
   "execution_count": 161,
   "metadata": {},
   "outputs": [
    {
     "name": "stdout",
     "output_type": "stream",
     "text": [
      "Accuracy: 0.7369791666666666\n",
      "F1 Score: 0.7328184773056244\n",
      "              precision    recall  f1-score   support\n",
      "\n",
      "           0       0.63      0.56      0.59       263\n",
      "           1       0.78      0.83      0.81       505\n",
      "\n",
      "    accuracy                           0.74       768\n",
      "   macro avg       0.71      0.69      0.70       768\n",
      "weighted avg       0.73      0.74      0.73       768\n",
      "\n",
      "Classification report saved to results\\classification_report.csv\n"
     ]
    },
    {
     "data": {
      "image/png": "[encoded data removed]",
      "text/plain": [
       "<Figure size 1000x800 with 2 Axes>"
      ]
     },
     "metadata": {},
     "output_type": "display_data"
    }
   ],
   "source": [
    "clf = GaussianNB() \n",
    "clf.fit(X_train,y_train)\n",
    "y_pred_nb = clf.predict(X_test)\n",
    "\n",
    "\n",
    "# Calculate the scores\n",
    "accuracy = accuracy_score(y_test, y_pred_nb)\n",
    "f1 = f1_score(y_test, y_pred_nb, average='weighted')\n",
    "print(\"Accuracy:\", accuracy)\n",
    "print(\"F1 Score:\", f1)\n",
    "print(classification_report(y_test, y_pred_nb))\n",
    "\n",
    "# Save the classification report\n",
    "report = classification_report(y_test, y_pred_nb, output_dict=True)\n",
    "report_df = pd.DataFrame(report).transpose()\n",
    "\n",
    "classification_report_save_path = os.path.join('results', 'classification_report.csv')\n",
    "report_df.to_csv(classification_report_save_path, index=True)\n",
    "print(f\"Classification report saved to {classification_report_save_path}\")\n",
    "\n",
    "# Plot and save the confusion matrix\n",
    "cm = confusion_matrix(y_test, y_pred_nb)\n",
    "plt.figure(figsize=(10, 8))\n",
    "sns.heatmap(cm, annot=True, fmt=\"d\", cmap=\"Blues\")\n",
    "plt.xlabel('Predicted')\n",
    "plt.ylabel('Actual')\n",
    "plt.title('Confusion Matrix - Naive Bayes')\n",
    "plt.tight_layout()\n",
    "plt.savefig(f'results/confusion_matrix.png')\n",
    "plt.show()\n"
   ]
  },
  {
   "cell_type": "markdown",
   "metadata": {},
   "source": [
    "<h1>KNN<h1>"
   ]
  },
  {
   "cell_type": "code",
   "execution_count": 162,
   "metadata": {},
   "outputs": [
    {
     "name": "stdout",
     "output_type": "stream",
     "text": [
      "Accuracy: 0.7330729166666666\n",
      "F1 Score: 0.7259118479530374\n",
      "              precision    recall  f1-score   support\n",
      "\n",
      "           0       0.63      0.52      0.57       263\n",
      "           1       0.77      0.84      0.81       505\n",
      "\n",
      "    accuracy                           0.73       768\n",
      "   macro avg       0.70      0.68      0.69       768\n",
      "weighted avg       0.72      0.73      0.73       768\n",
      "\n",
      "Classification report saved to results\\classification_report.csv\n"
     ]
    },
    {
     "data": {
      "image/png": "[encoded data removed]",
      "text/plain": [
       "<Figure size 1000x800 with 2 Axes>"
      ]
     },
     "metadata": {},
     "output_type": "display_data"
    }
   ],
   "source": [
    "clf = KNeighborsClassifier(n_neighbors = 5) \n",
    "clf.fit(X_train,y_train)\n",
    "y_pred_nb = clf.predict(X_test)\n",
    "\n",
    "# Calculate the scores\n",
    "accuracy = accuracy_score(y_test, y_pred_nb)\n",
    "f1 = f1_score(y_test, y_pred_nb, average='weighted')\n",
    "print(\"Accuracy:\", accuracy)\n",
    "print(\"F1 Score:\", f1)\n",
    "print(classification_report(y_test, y_pred_nb))\n",
    "\n",
    "# Save the classification report\n",
    "report = classification_report(y_test, y_pred_nb, output_dict=True)\n",
    "report_df = pd.DataFrame(report).transpose()\n",
    "\n",
    "classification_report_save_path = os.path.join('results', 'classification_report.csv')\n",
    "report_df.to_csv(classification_report_save_path, index=True)\n",
    "print(f\"Classification report saved to {classification_report_save_path}\")\n",
    "\n",
    "# Plot and save the confusion matrix\n",
    "cm = confusion_matrix(y_test, y_pred_nb)\n",
    "plt.figure(figsize=(10, 8))\n",
    "sns.heatmap(cm, annot=True, fmt=\"d\", cmap=\"Blues\")\n",
    "plt.xlabel('Predicted')\n",
    "plt.ylabel('Actual')\n",
    "plt.title('Confusion Matrix - KNN')\n",
    "plt.tight_layout()\n",
    "plt.savefig(f'results/confusion_matrix.png')\n",
    "plt.show()"
   ]
  },
  {
   "cell_type": "markdown",
   "metadata": {},
   "source": [
    "<h1>SVM<h1>"
   ]
  },
  {
   "cell_type": "code",
   "execution_count": 163,
   "metadata": {},
   "outputs": [
    {
     "name": "stdout",
     "output_type": "stream",
     "text": [
      "Fitting 5 folds for each of 180 candidates, totalling 900 fits\n"
     ]
    },
    {
     "ename": "KeyboardInterrupt",
     "evalue": "",
     "output_type": "error",
     "traceback": [
      "\u001b[1;31m---------------------------------------------------------------------------\u001b[0m",
      "\u001b[1;31mKeyboardInterrupt\u001b[0m                         Traceback (most recent call last)",
      "Cell \u001b[1;32mIn[163], line 23\u001b[0m\n\u001b[0;32m     20\u001b[0m grid_search \u001b[38;5;241m=\u001b[39m GridSearchCV(svm, param_grid, cv\u001b[38;5;241m=\u001b[39m\u001b[38;5;241m5\u001b[39m, scoring\u001b[38;5;241m=\u001b[39m\u001b[38;5;124m'\u001b[39m\u001b[38;5;124maccuracy\u001b[39m\u001b[38;5;124m'\u001b[39m, verbose\u001b[38;5;241m=\u001b[39m\u001b[38;5;241m2\u001b[39m, n_jobs\u001b[38;5;241m=\u001b[39m\u001b[38;5;241m-\u001b[39m\u001b[38;5;241m1\u001b[39m)  \u001b[38;5;66;03m# n_jobs=-1 to use all available cores\u001b[39;00m\n\u001b[0;32m     22\u001b[0m \u001b[38;5;66;03m# Fit GridSearchCV on your training data\u001b[39;00m\n\u001b[1;32m---> 23\u001b[0m \u001b[43mgrid_search\u001b[49m\u001b[38;5;241;43m.\u001b[39;49m\u001b[43mfit\u001b[49m\u001b[43m(\u001b[49m\u001b[43mX_train\u001b[49m\u001b[43m,\u001b[49m\u001b[43m \u001b[49m\u001b[43my_train\u001b[49m\u001b[43m)\u001b[49m\n\u001b[0;32m     25\u001b[0m \u001b[38;5;66;03m# Print the best parameters and the corresponding score\u001b[39;00m\n\u001b[0;32m     26\u001b[0m \u001b[38;5;28mprint\u001b[39m(\u001b[38;5;124m\"\u001b[39m\u001b[38;5;124mBest parameters found: \u001b[39m\u001b[38;5;124m\"\u001b[39m, grid_search\u001b[38;5;241m.\u001b[39mbest_params_)\n",
      "File \u001b[1;32mc:\\Users\\Yo200\\AppData\\Local\\Programs\\Python\\Python38\\lib\\site-packages\\sklearn\\base.py:1151\u001b[0m, in \u001b[0;36m_fit_context.<locals>.decorator.<locals>.wrapper\u001b[1;34m(estimator, *args, **kwargs)\u001b[0m\n\u001b[0;32m   1144\u001b[0m     estimator\u001b[38;5;241m.\u001b[39m_validate_params()\n\u001b[0;32m   1146\u001b[0m \u001b[38;5;28;01mwith\u001b[39;00m config_context(\n\u001b[0;32m   1147\u001b[0m     skip_parameter_validation\u001b[38;5;241m=\u001b[39m(\n\u001b[0;32m   1148\u001b[0m         prefer_skip_nested_validation \u001b[38;5;129;01mor\u001b[39;00m global_skip_validation\n\u001b[0;32m   1149\u001b[0m     )\n\u001b[0;32m   1150\u001b[0m ):\n\u001b[1;32m-> 1151\u001b[0m     \u001b[38;5;28;01mreturn\u001b[39;00m \u001b[43mfit_method\u001b[49m\u001b[43m(\u001b[49m\u001b[43mestimator\u001b[49m\u001b[43m,\u001b[49m\u001b[43m \u001b[49m\u001b[38;5;241;43m*\u001b[39;49m\u001b[43margs\u001b[49m\u001b[43m,\u001b[49m\u001b[43m \u001b[49m\u001b[38;5;241;43m*\u001b[39;49m\u001b[38;5;241;43m*\u001b[39;49m\u001b[43mkwargs\u001b[49m\u001b[43m)\u001b[49m\n",
      "File \u001b[1;32mc:\\Users\\Yo200\\AppData\\Local\\Programs\\Python\\Python38\\lib\\site-packages\\sklearn\\model_selection\\_search.py:898\u001b[0m, in \u001b[0;36mBaseSearchCV.fit\u001b[1;34m(self, X, y, groups, **fit_params)\u001b[0m\n\u001b[0;32m    892\u001b[0m     results \u001b[38;5;241m=\u001b[39m \u001b[38;5;28mself\u001b[39m\u001b[38;5;241m.\u001b[39m_format_results(\n\u001b[0;32m    893\u001b[0m         all_candidate_params, n_splits, all_out, all_more_results\n\u001b[0;32m    894\u001b[0m     )\n\u001b[0;32m    896\u001b[0m     \u001b[38;5;28;01mreturn\u001b[39;00m results\n\u001b[1;32m--> 898\u001b[0m \u001b[38;5;28;43mself\u001b[39;49m\u001b[38;5;241;43m.\u001b[39;49m\u001b[43m_run_search\u001b[49m\u001b[43m(\u001b[49m\u001b[43mevaluate_candidates\u001b[49m\u001b[43m)\u001b[49m\n\u001b[0;32m    900\u001b[0m \u001b[38;5;66;03m# multimetric is determined here because in the case of a callable\u001b[39;00m\n\u001b[0;32m    901\u001b[0m \u001b[38;5;66;03m# self.scoring the return type is only known after calling\u001b[39;00m\n\u001b[0;32m    902\u001b[0m first_test_score \u001b[38;5;241m=\u001b[39m all_out[\u001b[38;5;241m0\u001b[39m][\u001b[38;5;124m\"\u001b[39m\u001b[38;5;124mtest_scores\u001b[39m\u001b[38;5;124m\"\u001b[39m]\n",
      "File \u001b[1;32mc:\\Users\\Yo200\\AppData\\Local\\Programs\\Python\\Python38\\lib\\site-packages\\sklearn\\model_selection\\_search.py:1419\u001b[0m, in \u001b[0;36mGridSearchCV._run_search\u001b[1;34m(self, evaluate_candidates)\u001b[0m\n\u001b[0;32m   1417\u001b[0m \u001b[38;5;28;01mdef\u001b[39;00m \u001b[38;5;21m_run_search\u001b[39m(\u001b[38;5;28mself\u001b[39m, evaluate_candidates):\n\u001b[0;32m   1418\u001b[0m \u001b[38;5;250m    \u001b[39m\u001b[38;5;124;03m\"\"\"Search all candidates in param_grid\"\"\"\u001b[39;00m\n\u001b[1;32m-> 1419\u001b[0m     \u001b[43mevaluate_candidates\u001b[49m\u001b[43m(\u001b[49m\u001b[43mParameterGrid\u001b[49m\u001b[43m(\u001b[49m\u001b[38;5;28;43mself\u001b[39;49m\u001b[38;5;241;43m.\u001b[39;49m\u001b[43mparam_grid\u001b[49m\u001b[43m)\u001b[49m\u001b[43m)\u001b[49m\n",
      "File \u001b[1;32mc:\\Users\\Yo200\\AppData\\Local\\Programs\\Python\\Python38\\lib\\site-packages\\sklearn\\model_selection\\_search.py:845\u001b[0m, in \u001b[0;36mBaseSearchCV.fit.<locals>.evaluate_candidates\u001b[1;34m(candidate_params, cv, more_results)\u001b[0m\n\u001b[0;32m    837\u001b[0m \u001b[38;5;28;01mif\u001b[39;00m \u001b[38;5;28mself\u001b[39m\u001b[38;5;241m.\u001b[39mverbose \u001b[38;5;241m>\u001b[39m \u001b[38;5;241m0\u001b[39m:\n\u001b[0;32m    838\u001b[0m     \u001b[38;5;28mprint\u001b[39m(\n\u001b[0;32m    839\u001b[0m         \u001b[38;5;124m\"\u001b[39m\u001b[38;5;124mFitting \u001b[39m\u001b[38;5;132;01m{0}\u001b[39;00m\u001b[38;5;124m folds for each of \u001b[39m\u001b[38;5;132;01m{1}\u001b[39;00m\u001b[38;5;124m candidates,\u001b[39m\u001b[38;5;124m\"\u001b[39m\n\u001b[0;32m    840\u001b[0m         \u001b[38;5;124m\"\u001b[39m\u001b[38;5;124m totalling \u001b[39m\u001b[38;5;132;01m{2}\u001b[39;00m\u001b[38;5;124m fits\u001b[39m\u001b[38;5;124m\"\u001b[39m\u001b[38;5;241m.\u001b[39mformat(\n\u001b[0;32m    841\u001b[0m             n_splits, n_candidates, n_candidates \u001b[38;5;241m*\u001b[39m n_splits\n\u001b[0;32m    842\u001b[0m         )\n\u001b[0;32m    843\u001b[0m     )\n\u001b[1;32m--> 845\u001b[0m out \u001b[38;5;241m=\u001b[39m \u001b[43mparallel\u001b[49m\u001b[43m(\u001b[49m\n\u001b[0;32m    846\u001b[0m \u001b[43m    \u001b[49m\u001b[43mdelayed\u001b[49m\u001b[43m(\u001b[49m\u001b[43m_fit_and_score\u001b[49m\u001b[43m)\u001b[49m\u001b[43m(\u001b[49m\n\u001b[0;32m    847\u001b[0m \u001b[43m        \u001b[49m\u001b[43mclone\u001b[49m\u001b[43m(\u001b[49m\u001b[43mbase_estimator\u001b[49m\u001b[43m)\u001b[49m\u001b[43m,\u001b[49m\n\u001b[0;32m    848\u001b[0m \u001b[43m        \u001b[49m\u001b[43mX\u001b[49m\u001b[43m,\u001b[49m\n\u001b[0;32m    849\u001b[0m \u001b[43m        \u001b[49m\u001b[43my\u001b[49m\u001b[43m,\u001b[49m\n\u001b[0;32m    850\u001b[0m \u001b[43m        \u001b[49m\u001b[43mtrain\u001b[49m\u001b[38;5;241;43m=\u001b[39;49m\u001b[43mtrain\u001b[49m\u001b[43m,\u001b[49m\n\u001b[0;32m    851\u001b[0m \u001b[43m        \u001b[49m\u001b[43mtest\u001b[49m\u001b[38;5;241;43m=\u001b[39;49m\u001b[43mtest\u001b[49m\u001b[43m,\u001b[49m\n\u001b[0;32m    852\u001b[0m \u001b[43m        \u001b[49m\u001b[43mparameters\u001b[49m\u001b[38;5;241;43m=\u001b[39;49m\u001b[43mparameters\u001b[49m\u001b[43m,\u001b[49m\n\u001b[0;32m    853\u001b[0m \u001b[43m        \u001b[49m\u001b[43msplit_progress\u001b[49m\u001b[38;5;241;43m=\u001b[39;49m\u001b[43m(\u001b[49m\u001b[43msplit_idx\u001b[49m\u001b[43m,\u001b[49m\u001b[43m \u001b[49m\u001b[43mn_splits\u001b[49m\u001b[43m)\u001b[49m\u001b[43m,\u001b[49m\n\u001b[0;32m    854\u001b[0m \u001b[43m        \u001b[49m\u001b[43mcandidate_progress\u001b[49m\u001b[38;5;241;43m=\u001b[39;49m\u001b[43m(\u001b[49m\u001b[43mcand_idx\u001b[49m\u001b[43m,\u001b[49m\u001b[43m \u001b[49m\u001b[43mn_candidates\u001b[49m\u001b[43m)\u001b[49m\u001b[43m,\u001b[49m\n\u001b[0;32m    855\u001b[0m \u001b[43m        \u001b[49m\u001b[38;5;241;43m*\u001b[39;49m\u001b[38;5;241;43m*\u001b[39;49m\u001b[43mfit_and_score_kwargs\u001b[49m\u001b[43m,\u001b[49m\n\u001b[0;32m    856\u001b[0m \u001b[43m    \u001b[49m\u001b[43m)\u001b[49m\n\u001b[0;32m    857\u001b[0m \u001b[43m    \u001b[49m\u001b[38;5;28;43;01mfor\u001b[39;49;00m\u001b[43m \u001b[49m\u001b[43m(\u001b[49m\u001b[43mcand_idx\u001b[49m\u001b[43m,\u001b[49m\u001b[43m \u001b[49m\u001b[43mparameters\u001b[49m\u001b[43m)\u001b[49m\u001b[43m,\u001b[49m\u001b[43m \u001b[49m\u001b[43m(\u001b[49m\u001b[43msplit_idx\u001b[49m\u001b[43m,\u001b[49m\u001b[43m \u001b[49m\u001b[43m(\u001b[49m\u001b[43mtrain\u001b[49m\u001b[43m,\u001b[49m\u001b[43m \u001b[49m\u001b[43mtest\u001b[49m\u001b[43m)\u001b[49m\u001b[43m)\u001b[49m\u001b[43m \u001b[49m\u001b[38;5;129;43;01min\u001b[39;49;00m\u001b[43m \u001b[49m\u001b[43mproduct\u001b[49m\u001b[43m(\u001b[49m\n\u001b[0;32m    858\u001b[0m \u001b[43m        \u001b[49m\u001b[38;5;28;43menumerate\u001b[39;49m\u001b[43m(\u001b[49m\u001b[43mcandidate_params\u001b[49m\u001b[43m)\u001b[49m\u001b[43m,\u001b[49m\u001b[43m \u001b[49m\u001b[38;5;28;43menumerate\u001b[39;49m\u001b[43m(\u001b[49m\u001b[43mcv\u001b[49m\u001b[38;5;241;43m.\u001b[39;49m\u001b[43msplit\u001b[49m\u001b[43m(\u001b[49m\u001b[43mX\u001b[49m\u001b[43m,\u001b[49m\u001b[43m \u001b[49m\u001b[43my\u001b[49m\u001b[43m,\u001b[49m\u001b[43m \u001b[49m\u001b[43mgroups\u001b[49m\u001b[43m)\u001b[49m\u001b[43m)\u001b[49m\n\u001b[0;32m    859\u001b[0m \u001b[43m    \u001b[49m\u001b[43m)\u001b[49m\n\u001b[0;32m    860\u001b[0m \u001b[43m\u001b[49m\u001b[43m)\u001b[49m\n\u001b[0;32m    862\u001b[0m \u001b[38;5;28;01mif\u001b[39;00m \u001b[38;5;28mlen\u001b[39m(out) \u001b[38;5;241m<\u001b[39m \u001b[38;5;241m1\u001b[39m:\n\u001b[0;32m    863\u001b[0m     \u001b[38;5;28;01mraise\u001b[39;00m \u001b[38;5;167;01mValueError\u001b[39;00m(\n\u001b[0;32m    864\u001b[0m         \u001b[38;5;124m\"\u001b[39m\u001b[38;5;124mNo fits were performed. \u001b[39m\u001b[38;5;124m\"\u001b[39m\n\u001b[0;32m    865\u001b[0m         \u001b[38;5;124m\"\u001b[39m\u001b[38;5;124mWas the CV iterator empty? \u001b[39m\u001b[38;5;124m\"\u001b[39m\n\u001b[0;32m    866\u001b[0m         \u001b[38;5;124m\"\u001b[39m\u001b[38;5;124mWere there no candidates?\u001b[39m\u001b[38;5;124m\"\u001b[39m\n\u001b[0;32m    867\u001b[0m     )\n",
      "File \u001b[1;32mc:\\Users\\Yo200\\AppData\\Local\\Programs\\Python\\Python38\\lib\\site-packages\\sklearn\\utils\\parallel.py:65\u001b[0m, in \u001b[0;36mParallel.__call__\u001b[1;34m(self, iterable)\u001b[0m\n\u001b[0;32m     60\u001b[0m config \u001b[38;5;241m=\u001b[39m get_config()\n\u001b[0;32m     61\u001b[0m iterable_with_config \u001b[38;5;241m=\u001b[39m (\n\u001b[0;32m     62\u001b[0m     (_with_config(delayed_func, config), args, kwargs)\n\u001b[0;32m     63\u001b[0m     \u001b[38;5;28;01mfor\u001b[39;00m delayed_func, args, kwargs \u001b[38;5;129;01min\u001b[39;00m iterable\n\u001b[0;32m     64\u001b[0m )\n\u001b[1;32m---> 65\u001b[0m \u001b[38;5;28;01mreturn\u001b[39;00m \u001b[38;5;28;43msuper\u001b[39;49m\u001b[43m(\u001b[49m\u001b[43m)\u001b[49m\u001b[38;5;241;43m.\u001b[39;49m\u001b[38;5;21;43m__call__\u001b[39;49m\u001b[43m(\u001b[49m\u001b[43miterable_with_config\u001b[49m\u001b[43m)\u001b[49m\n",
      "File \u001b[1;32mc:\\Users\\Yo200\\AppData\\Local\\Programs\\Python\\Python38\\lib\\site-packages\\joblib\\parallel.py:1952\u001b[0m, in \u001b[0;36mParallel.__call__\u001b[1;34m(self, iterable)\u001b[0m\n\u001b[0;32m   1946\u001b[0m \u001b[38;5;66;03m# The first item from the output is blank, but it makes the interpreter\u001b[39;00m\n\u001b[0;32m   1947\u001b[0m \u001b[38;5;66;03m# progress until it enters the Try/Except block of the generator and\u001b[39;00m\n\u001b[0;32m   1948\u001b[0m \u001b[38;5;66;03m# reach the first `yield` statement. This starts the aynchronous\u001b[39;00m\n\u001b[0;32m   1949\u001b[0m \u001b[38;5;66;03m# dispatch of the tasks to the workers.\u001b[39;00m\n\u001b[0;32m   1950\u001b[0m \u001b[38;5;28mnext\u001b[39m(output)\n\u001b[1;32m-> 1952\u001b[0m \u001b[38;5;28;01mreturn\u001b[39;00m output \u001b[38;5;28;01mif\u001b[39;00m \u001b[38;5;28mself\u001b[39m\u001b[38;5;241m.\u001b[39mreturn_generator \u001b[38;5;28;01melse\u001b[39;00m \u001b[38;5;28;43mlist\u001b[39;49m\u001b[43m(\u001b[49m\u001b[43moutput\u001b[49m\u001b[43m)\u001b[49m\n",
      "File \u001b[1;32mc:\\Users\\Yo200\\AppData\\Local\\Programs\\Python\\Python38\\lib\\site-packages\\joblib\\parallel.py:1595\u001b[0m, in \u001b[0;36mParallel._get_outputs\u001b[1;34m(self, iterator, pre_dispatch)\u001b[0m\n\u001b[0;32m   1592\u001b[0m     \u001b[38;5;28;01myield\u001b[39;00m\n\u001b[0;32m   1594\u001b[0m     \u001b[38;5;28;01mwith\u001b[39;00m \u001b[38;5;28mself\u001b[39m\u001b[38;5;241m.\u001b[39m_backend\u001b[38;5;241m.\u001b[39mretrieval_context():\n\u001b[1;32m-> 1595\u001b[0m         \u001b[38;5;28;01myield from\u001b[39;00m \u001b[38;5;28mself\u001b[39m\u001b[38;5;241m.\u001b[39m_retrieve()\n\u001b[0;32m   1597\u001b[0m \u001b[38;5;28;01mexcept\u001b[39;00m \u001b[38;5;167;01mGeneratorExit\u001b[39;00m:\n\u001b[0;32m   1598\u001b[0m     \u001b[38;5;66;03m# The generator has been garbage collected before being fully\u001b[39;00m\n\u001b[0;32m   1599\u001b[0m     \u001b[38;5;66;03m# consumed. This aborts the remaining tasks if possible and warn\u001b[39;00m\n\u001b[0;32m   1600\u001b[0m     \u001b[38;5;66;03m# the user if necessary.\u001b[39;00m\n\u001b[0;32m   1601\u001b[0m     \u001b[38;5;28mself\u001b[39m\u001b[38;5;241m.\u001b[39m_exception \u001b[38;5;241m=\u001b[39m \u001b[38;5;28;01mTrue\u001b[39;00m\n",
      "File \u001b[1;32mc:\\Users\\Yo200\\AppData\\Local\\Programs\\Python\\Python38\\lib\\site-packages\\joblib\\parallel.py:1707\u001b[0m, in \u001b[0;36mParallel._retrieve\u001b[1;34m(self)\u001b[0m\n\u001b[0;32m   1702\u001b[0m \u001b[38;5;66;03m# If the next job is not ready for retrieval yet, we just wait for\u001b[39;00m\n\u001b[0;32m   1703\u001b[0m \u001b[38;5;66;03m# async callbacks to progress.\u001b[39;00m\n\u001b[0;32m   1704\u001b[0m \u001b[38;5;28;01mif\u001b[39;00m ((\u001b[38;5;28mlen\u001b[39m(\u001b[38;5;28mself\u001b[39m\u001b[38;5;241m.\u001b[39m_jobs) \u001b[38;5;241m==\u001b[39m \u001b[38;5;241m0\u001b[39m) \u001b[38;5;129;01mor\u001b[39;00m\n\u001b[0;32m   1705\u001b[0m     (\u001b[38;5;28mself\u001b[39m\u001b[38;5;241m.\u001b[39m_jobs[\u001b[38;5;241m0\u001b[39m]\u001b[38;5;241m.\u001b[39mget_status(\n\u001b[0;32m   1706\u001b[0m         timeout\u001b[38;5;241m=\u001b[39m\u001b[38;5;28mself\u001b[39m\u001b[38;5;241m.\u001b[39mtimeout) \u001b[38;5;241m==\u001b[39m TASK_PENDING)):\n\u001b[1;32m-> 1707\u001b[0m     \u001b[43mtime\u001b[49m\u001b[38;5;241;43m.\u001b[39;49m\u001b[43msleep\u001b[49m\u001b[43m(\u001b[49m\u001b[38;5;241;43m0.01\u001b[39;49m\u001b[43m)\u001b[49m\n\u001b[0;32m   1708\u001b[0m     \u001b[38;5;28;01mcontinue\u001b[39;00m\n\u001b[0;32m   1710\u001b[0m \u001b[38;5;66;03m# We need to be careful: the job list can be filling up as\u001b[39;00m\n\u001b[0;32m   1711\u001b[0m \u001b[38;5;66;03m# we empty it and Python list are not thread-safe by\u001b[39;00m\n\u001b[0;32m   1712\u001b[0m \u001b[38;5;66;03m# default hence the use of the lock\u001b[39;00m\n",
      "\u001b[1;31mKeyboardInterrupt\u001b[0m: "
     ]
    }
   ],
   "source": [
    "#hyperparameter Tuning\n",
    "\n",
    "from sklearn.model_selection import GridSearchCV\n",
    "from sklearn.svm import SVC\n",
    "from sklearn.metrics import classification_report\n",
    "\n",
    "# Define the model\n",
    "svm = SVC()\n",
    "\n",
    "# Set up the parameter grid. You can adjust the ranges and values based on your computational capacity and dataset.\n",
    "param_grid = {\n",
    "    'C': [0.1, 1, 20],  # Example values\n",
    "    'kernel': ['linear', 'rbf', 'sigmoid'],\n",
    "    'gamma': ['scale', 'auto', 0.1, 1,5],  # Example values\n",
    "    'degree': [2, 4],  # Only used for 'poly' kernel\n",
    "    'coef0': [0, 0.5]  # Only used for 'poly' and 'sigmoid'\n",
    "}\n",
    "\n",
    "# Set up GridSearchCV with cross-validation\n",
    "grid_search = GridSearchCV(svm, param_grid, cv=5, scoring='accuracy', verbose=2, n_jobs=-1)  # n_jobs=-1 to use all available cores\n",
    "\n",
    "# Fit GridSearchCV on your training data\n",
    "grid_search.fit(X_train, y_train)\n",
    "\n",
    "# Print the best parameters and the corresponding score\n",
    "print(\"Best parameters found: \", grid_search.best_params_)\n",
    "print(\"Best cross-validation accuracy: {:.2f}\".format(grid_search.best_score_))\n",
    "\n",
    "# Evaluate on the test set\n",
    "y_pred = grid_search.predict(X_test)\n",
    "print(classification_report(y_test, y_pred))\n",
    "\n"
   ]
  },
  {
   "cell_type": "code",
   "execution_count": 164,
   "metadata": {},
   "outputs": [
    {
     "name": "stdout",
     "output_type": "stream",
     "text": [
      "Accuracy: 0.7591145833333334\n",
      "F1 Score: 0.7447975013739411\n",
      "              precision    recall  f1-score   support\n",
      "\n",
      "           0       0.72      0.48      0.58       263\n",
      "           1       0.77      0.90      0.83       505\n",
      "\n",
      "    accuracy                           0.76       768\n",
      "   macro avg       0.75      0.69      0.70       768\n",
      "weighted avg       0.75      0.76      0.74       768\n",
      "\n",
      "Classification report saved to results\\classification_report.csv\n"
     ]
    },
    {
     "data": {
      "image/png": "[encoded data removed]",
      "text/plain": [
       "<Figure size 1000x800 with 2 Axes>"
      ]
     },
     "metadata": {},
     "output_type": "display_data"
    }
   ],
   "source": [
    "#clf = LinearSVC(random_state= random_seed) \n",
    "clf = SVC(kernel='linear', C=1, gamma= 'auto', degree = 2, coef0 = 0 );\n",
    "#clf = SVC(C = 2,gamma = 0.1 ,kernel='linear', random_state= random_seed)\n",
    "clf.fit(X_train,y_train)\n",
    "y_pred_nb = clf.predict(X_test)\n",
    "\n",
    "\n",
    "# Calculate the scores\n",
    "accuracy = accuracy_score(y_test, y_pred_nb)\n",
    "f1 = f1_score(y_test, y_pred_nb, average='weighted')\n",
    "print(\"Accuracy:\", accuracy)\n",
    "print(\"F1 Score:\", f1)\n",
    "print(classification_report(y_test, y_pred_nb))\n",
    "\n",
    "# Save the classification report\n",
    "report = classification_report(y_test, y_pred_nb, output_dict=True)\n",
    "report_df = pd.DataFrame(report).transpose()\n",
    "\n",
    "classification_report_save_path = os.path.join('results', 'classification_report.csv')\n",
    "report_df.to_csv(classification_report_save_path, index=True)\n",
    "print(f\"Classification report saved to {classification_report_save_path}\")\n",
    "\n",
    "# Plot and save the confusion matrix\n",
    "cm = confusion_matrix(y_test, y_pred_nb)\n",
    "plt.figure(figsize=(10, 8))\n",
    "sns.heatmap(cm, annot=True, fmt=\"d\", cmap=\"Blues\")\n",
    "plt.xlabel('Predicted')\n",
    "plt.ylabel('Actual')\n",
    "plt.title('Confusion Matrix - Linear SVM')\n",
    "plt.tight_layout()\n",
    "plt.savefig(f'results/confusion_matrix.png')\n",
    "plt.show()"
   ]
  },
  {
   "cell_type": "code",
   "execution_count": 165,
   "metadata": {},
   "outputs": [
    {
     "name": "stdout",
     "output_type": "stream",
     "text": [
      "              precision    recall  f1-score   support\n",
      "\n",
      "           0       0.64      0.52      0.57       263\n",
      "           1       0.77      0.85      0.81       505\n",
      "\n",
      "    accuracy                           0.74       768\n",
      "   macro avg       0.71      0.68      0.69       768\n",
      "weighted avg       0.73      0.74      0.73       768\n",
      "\n"
     ]
    }
   ],
   "source": [
    "clf = XGBClassifier(random_state=random_seed)\n",
    "\n",
    "clf.fit(X_train,y_train)\n",
    "\n",
    "y_pred = clf.predict(X_test)\n",
    "\n",
    "print(classification_report(y_test, y_pred))"
   ]
  }
 ],
 "metadata": {
  "kernelspec": {
   "display_name": "Python 3",
   "language": "python",
   "name": "python3"
  },
  "language_info": {
   "codemirror_mode": {
    "name": "ipython",
    "version": 3
   },
   "file_extension": ".py",
   "mimetype": "text/x-python",
   "name": "python",
   "nbconvert_exporter": "python",
   "pygments_lexer": "ipython3",
   "version": "3.8.5"
  }
 },
 "nbformat": 4,
 "nbformat_minor": 2
}
